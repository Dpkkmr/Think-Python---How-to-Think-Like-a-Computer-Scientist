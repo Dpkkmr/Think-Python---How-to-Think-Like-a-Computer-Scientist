{
 "metadata": {
  "name": "",
  "signature": "sha256:3f95a24475a490eac90fc584021b2f8e51b7bf504d99dbc7e238517a8a1a595a"
 },
 "nbformat": 3,
 "nbformat_minor": 0,
 "worksheets": [
  {
   "cells": [
    {
     "cell_type": "heading",
     "level": 1,
     "metadata": {},
     "source": [
      "FUNCTIONS"
     ]
    },
    {
     "cell_type": "code",
     "collapsed": false,
     "input": [
      "# The empty parentheses after the name indicate that this function doesn\u2019t take any arguments.\n",
      "# The header has to end with a colon and the body has to be indented."
     ],
     "language": "python",
     "metadata": {},
     "outputs": [],
     "prompt_number": 1
    },
    {
     "cell_type": "code",
     "collapsed": false,
     "input": [
      "def print_lyrics():\n",
      "    print \"I'm a lumberjack, and I'm okay.\"\n",
      "    print \"I'm a lumberjack, and I'm okay.\""
     ],
     "language": "python",
     "metadata": {},
     "outputs": [],
     "prompt_number": 2
    },
    {
     "cell_type": "code",
     "collapsed": false,
     "input": [
      "# The value of print_lyrics is a function object, which has type 'function'.\n",
      "print type(print_lyrics)"
     ],
     "language": "python",
     "metadata": {},
     "outputs": [
      {
       "output_type": "stream",
       "stream": "stdout",
       "text": [
        "<type 'function'>\n"
       ]
      }
     ],
     "prompt_number": 3
    },
    {
     "cell_type": "code",
     "collapsed": false,
     "input": [
      "# Once you have defined a function, you can use it inside another function.\n",
      "def repeat_lyrics():\n",
      "    print_lyrics()\n",
      "    print_lyrics()\n",
      "\n",
      "repeat_lyrics()"
     ],
     "language": "python",
     "metadata": {},
     "outputs": [
      {
       "output_type": "stream",
       "stream": "stdout",
       "text": [
        "I'm a lumberjack, and I'm okay.\n",
        "I'm a lumberjack, and I'm okay.\n",
        "I'm a lumberjack, and I'm okay.\n",
        "I'm a lumberjack, and I'm okay.\n"
       ]
      }
     ],
     "prompt_number": 4
    },
    {
     "cell_type": "code",
     "collapsed": false,
     "input": [
      "# To return a result from a function, we use the return statement in our function.\n",
      "def addtwo(a, b):\n",
      "    added = a + b\n",
      "    return added\n",
      "\n",
      "x = addtwo(3, 5)\n",
      "print x"
     ],
     "language": "python",
     "metadata": {},
     "outputs": [
      {
       "output_type": "stream",
       "stream": "stdout",
       "text": [
        "8\n"
       ]
      }
     ],
     "prompt_number": 5
    },
    {
     "cell_type": "code",
     "collapsed": false,
     "input": [
      "# int can convert floating-point values to integers, but it doesn\u2019t round off; it chops off the fraction part.\n",
      "print int (3.99999)\n",
      "print int (-2.3)"
     ],
     "language": "python",
     "metadata": {},
     "outputs": [
      {
       "output_type": "stream",
       "stream": "stdout",
       "text": [
        "3\n",
        "-2\n"
       ]
      }
     ],
     "prompt_number": 8
    },
    {
     "cell_type": "code",
     "collapsed": false,
     "input": [
      "# Remember that statements inside the function are not executed until the function is called.\n",
      "# When create a variable inside a function, it is local, which means that it only exists inside the function\n",
      "\n",
      "def cat_twice(part1, part2):\n",
      "    cat = part1 + part2\n",
      "    print cat"
     ],
     "language": "python",
     "metadata": {},
     "outputs": [],
     "prompt_number": 15
    },
    {
     "cell_type": "code",
     "collapsed": false,
     "input": [
      "# This function takes two arguments, concatenates them, and prints the result.\n",
      "\n",
      "line1 = 'Bing tiddle '\n",
      "line2 = 'tiddle bang.'\n",
      "\n",
      "cat_twice(line1, line2)"
     ],
     "language": "python",
     "metadata": {},
     "outputs": [
      {
       "output_type": "stream",
       "stream": "stdout",
       "text": [
        "Bing tiddle tiddle bang.\n"
       ]
      }
     ],
     "prompt_number": 16
    },
    {
     "cell_type": "code",
     "collapsed": false,
     "input": [
      "# When cat_twice terminates, the variable cat is destroyed. If we try to print it, we get an exception\n",
      "print cat"
     ],
     "language": "python",
     "metadata": {},
     "outputs": [
      {
       "ename": "NameError",
       "evalue": "name 'cat' is not defined",
       "output_type": "pyerr",
       "traceback": [
        "\u001b[1;31m---------------------------------------------------------------------------\u001b[0m\n\u001b[1;31mNameError\u001b[0m                                 Traceback (most recent call last)",
        "\u001b[1;32m<ipython-input-17-cd911ef74ccb>\u001b[0m in \u001b[0;36m<module>\u001b[1;34m()\u001b[0m\n\u001b[0;32m      1\u001b[0m \u001b[1;31m# When cat_twice terminates, the variable cat is destroyed. If we try to print it, we get an exception\u001b[0m\u001b[1;33m\u001b[0m\u001b[1;33m\u001b[0m\u001b[0m\n\u001b[1;32m----> 2\u001b[1;33m \u001b[1;32mprint\u001b[0m \u001b[0mcat\u001b[0m\u001b[1;33m\u001b[0m\u001b[0m\n\u001b[0m",
        "\u001b[1;31mNameError\u001b[0m: name 'cat' is not defined"
       ]
      }
     ],
     "prompt_number": 17
    },
    {
     "cell_type": "heading",
     "level": 2,
     "metadata": {},
     "source": [
      "(PSEUDO)RANDOM NUMBERS"
     ]
    },
    {
     "cell_type": "code",
     "collapsed": false,
     "input": [
      "# The function random returns a random float between 0.0 and 1.0 (including 0.0 but not 1.0)"
     ],
     "language": "python",
     "metadata": {},
     "outputs": [],
     "prompt_number": 35
    },
    {
     "cell_type": "code",
     "collapsed": false,
     "input": [
      "import random\n",
      "for i in range(10):\n",
      "    x = random.random()\n",
      "    print x"
     ],
     "language": "python",
     "metadata": {},
     "outputs": [
      {
       "output_type": "stream",
       "stream": "stdout",
       "text": [
        "0.763884497305\n",
        "0.244129244632\n",
        "0.903347768349\n",
        "0.996210289326\n",
        "0.908199414224\n",
        "0.64540332552\n",
        "0.125699997029\n",
        "0.233352731492\n",
        "0.0982562749456\n",
        "0.420845103078\n"
       ]
      }
     ],
     "prompt_number": 36
    },
    {
     "cell_type": "code",
     "collapsed": false,
     "input": [
      "# The function randint takes parameters low and high and returns an integer between low and high (including both)."
     ],
     "language": "python",
     "metadata": {},
     "outputs": [],
     "prompt_number": 17
    },
    {
     "cell_type": "code",
     "collapsed": false,
     "input": [
      "random.randint(5, 10)"
     ],
     "language": "python",
     "metadata": {},
     "outputs": [
      {
       "metadata": {},
       "output_type": "pyout",
       "prompt_number": 18,
       "text": [
        "7"
       ]
      }
     ],
     "prompt_number": 18
    },
    {
     "cell_type": "code",
     "collapsed": false,
     "input": [
      "# To choose an element from a sequence at random, you can use choice:"
     ],
     "language": "python",
     "metadata": {},
     "outputs": [],
     "prompt_number": 19
    },
    {
     "cell_type": "code",
     "collapsed": false,
     "input": [
      "t = [1, 2, 3]\n",
      "random.choice(t)"
     ],
     "language": "python",
     "metadata": {},
     "outputs": [
      {
       "metadata": {},
       "output_type": "pyout",
       "prompt_number": 42,
       "text": [
        "1"
       ]
      }
     ],
     "prompt_number": 42
    },
    {
     "cell_type": "heading",
     "level": 2,
     "metadata": {},
     "source": [
      "Incremental development"
     ]
    },
    {
     "cell_type": "code",
     "collapsed": false,
     "input": [
      "# Suppose you want to find the distance between two points, given by the coordinates (x1, y1) and (x2, y2)\n",
      "# The first step is to consider what a distance function should look like in Python. In other words, what are the inputs and output\n",
      "\n",
      "def distance(x1, y1, x2, y2):\n",
      "    return 0.0"
     ],
     "language": "python",
     "metadata": {},
     "outputs": [],
     "prompt_number": 1
    },
    {
     "cell_type": "code",
     "collapsed": false,
     "input": [
      "# The next version stores those values in temporary variables and prints them.\n",
      "\n",
      "def distance(x1, y1, x2, y2):\n",
      "    dx = x2 - x1\n",
      "    dy = y2 - y1\n",
      "    print 'dx is', dx\n",
      "    print 'dy is', dy\n",
      "    return 0.0"
     ],
     "language": "python",
     "metadata": {},
     "outputs": [],
     "prompt_number": 2
    },
    {
     "cell_type": "code",
     "collapsed": false,
     "input": [
      "# Next we compute the sum of squares of dx and dy:\n",
      "\n",
      "def distance(x1, y1, x2, y2):\n",
      "    dx = x2 - x1\n",
      "    dy = y2 - y1\n",
      "    dsquared = dx**2 + dy**2\n",
      "    print 'dsquared is: ', dsquared\n",
      "    return 0.0"
     ],
     "language": "python",
     "metadata": {},
     "outputs": [],
     "prompt_number": 3
    },
    {
     "cell_type": "code",
     "collapsed": false,
     "input": [
      "# Finally, you can use math.sqrt to compute and return the result:\n",
      "\n",
      "def distance(x1, y1, x2, y2):\n",
      "    dx = x2 - x1\n",
      "    dy = y2 - y1\n",
      "    dsquared = dx**2 + dy**2\n",
      "    result = math.sqrt(dsquared)\n",
      "    return result\n",
      "\n",
      "# The final version of the function doesn\u2019t display anything when it runs; it only returns a value.\n",
      "# The print statements we wrote are useful for debugging, but once you get the function working, you should remove them. \n",
      "# Code like that is called scaffolding because it is helpful for building the program but is not part of the final product."
     ],
     "language": "python",
     "metadata": {},
     "outputs": [],
     "prompt_number": 5
    },
    {
     "cell_type": "code",
     "collapsed": false,
     "input": [
      "# 1. Start with a working program and make small incremental changes. If there is an error, you should have a good idea where it is\n",
      "# 2. Use temporary variables to hold intermediate values so you can display and check them.\n",
      "# 3. Once the program is working, you might want to remove some of the scaffolding or consolidate multiple statements into \n",
      "# compound expressions, but only if it does not make the program difficult to read."
     ],
     "language": "python",
     "metadata": {},
     "outputs": [],
     "prompt_number": 6
    }
   ],
   "metadata": {}
  }
 ]
}